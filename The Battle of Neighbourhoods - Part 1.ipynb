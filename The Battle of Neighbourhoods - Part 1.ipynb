{
 "cells": [
  {
   "cell_type": "markdown",
   "metadata": {
    "collapsed": true
   },
   "source": [
    "# The Battle of the Neighbourhoods - A. Sethi "
   ]
  },
  {
   "cell_type": "markdown",
   "metadata": {},
   "source": [
    "## Introduction "
   ]
  },
  {
   "cell_type": "markdown",
   "metadata": {},
   "source": [
    "In this project we are going to be analysing the city of Toronto and the neighbourhoods within it. We are going to be analysing the Boroughs of Toronto and identifying the popular cuisines when it comes to the available food options within each of the Boroughs. The problem we are trying to solve here is to identify a potential location for a new restaurant and see which particular cuisines would provide a potential opportunity for success within those locations. "
   ]
  },
  {
   "cell_type": "markdown",
   "metadata": {},
   "source": [
    "## Data at Use "
   ]
  },
  {
   "cell_type": "markdown",
   "metadata": {},
   "source": [
    "The data set we will be using for this project comprises of the following. \n",
    "\n",
    "- We will be picking up neighbourhood information from Wikipedia - https://en.wikipedia.org/wiki/List_of_postal_codes_of_Canada:_M. \n",
    "- We will be importing location, local business, popularity and other related information from the FourSquare APi. \n",
    "- We will also be using a variety of python libraries. "
   ]
  },
  {
   "cell_type": "code",
   "execution_count": null,
   "metadata": {},
   "outputs": [],
   "source": []
  }
 ],
 "metadata": {
  "kernelspec": {
   "display_name": "Python 3.6",
   "language": "python",
   "name": "python3"
  },
  "language_info": {
   "codemirror_mode": {
    "name": "ipython",
    "version": 3
   },
   "file_extension": ".py",
   "mimetype": "text/x-python",
   "name": "python",
   "nbconvert_exporter": "python",
   "pygments_lexer": "ipython3",
   "version": "3.6.8"
  }
 },
 "nbformat": 4,
 "nbformat_minor": 1
}
